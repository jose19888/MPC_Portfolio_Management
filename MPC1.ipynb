{
 "cells": [
  {
   "cell_type": "code",
   "execution_count": 1,
   "metadata": {},
   "outputs": [],
   "source": [
    "import os\n",
    "import sys\n",
    "sys.path.insert(0, os.path.abspath('..'))"
   ]
  },
  {
   "cell_type": "code",
   "execution_count": 2,
   "metadata": {},
   "outputs": [],
   "source": [
    "%matplotlib inline\n",
    "import numpy as np\n",
    "import pandas as pd\n",
    "import quandl\n",
    "import cvxportfolio as cp\n",
    "import matplotlib.pyplot as plt\n",
    "import matplotlib.ticker as mtick\n",
    "\n",
    "#Quandl financial database user key.\n",
    "quandl.ApiConfig.api_key = \"##########LfHLgiKau2\""
   ]
  },
  {
   "cell_type": "code",
   "execution_count": 3,
   "metadata": {},
   "outputs": [],
   "source": [
    "#Portfolio stocks.\n",
    "stocks = ['AKAM', 'JNPR', 'MSI', 'ACN','ADBE','ABT','HCP','BAX','ALXN',\n",
    "           'PDCO','VIAB','ADS','URBN','ATVI','AMZN','PPL','AEE','NOV','AES','AEP']\n",
    "\n",
    "#Investment time period.\n",
    "start_date='2012-01-01'\n",
    "end_date='2016-12-31'\n",
    "\n",
    "#Gettind financial data from Quandl database.\n",
    "Portfolio_returns = pd.DataFrame(dict([(ticker, quandl.get('WIKI/'+ticker,\n",
    "start_date=start_date,\n",
    "end_date=end_date)['Adj. Close'].pct_change())\n",
    "for ticker in stocks]))\n",
    "\n",
    "#Risk free rate.\n",
    "Portfolio_returns[[\"USDOLLAR\"]]=quandl.get('FRED/DTB3', \n",
    "                                           start_date=start_date, \n",
    "                                           end_date=end_date)/(250*100)\n",
    "\n",
    "Portfolio_returns = Portfolio_returns.fillna(method='ffill').iloc[1:]"
   ]
  },
  {
   "cell_type": "code",
   "execution_count": 4,
   "metadata": {},
   "outputs": [],
   "source": [
    "#Expected returns and standar deviations of stocks.\n",
    "historical_data = 250\n",
    "expected_returns = returns.rolling(window=historical_data, \n",
    "                                   min_periods=historical_data).mean().shift(1).dropna()\n",
    "std_returns = returns.rolling(window=historical_data, \n",
    "                              min_periods=historical_data, \n",
    "                              closed='neither').cov().dropna()"
   ]
  },
  {
   "cell_type": "code",
   "execution_count": 83,
   "metadata": {},
   "outputs": [],
   "source": [
    "#Cost models.\n",
    "Transaction_costs_model=cp.TcostModel(half_spread=10E-4)\n",
    "Holding_costs_model=cp.HcostModel(borrow_costs=1E-4)\n",
    "\n",
    "#Risk model.\n",
    "Risk_model = cp.FullSigma(std_returns)"
   ]
  },
  {
   "cell_type": "code",
   "execution_count": 84,
   "metadata": {},
   "outputs": [],
   "source": [
    "#Aversion parameters.\n",
    "\n",
    "#Risk aversion parameters.\n",
    "RAv1 =1.\n",
    "RAv2 =5.\n",
    "RAv3 =10.\n",
    "RAv4 =20.\n",
    "RAv5 =50.\n",
    "\n",
    "#Trading aversion parameters.\n",
    "TAv1 =0.5\n",
    "TAv2 =0.7\n",
    "TAv3 =1.\n",
    "TAv4 =1.2\n",
    "TAv5 =1.5\n",
    "\n",
    "#Holding aversion parameters.\n",
    "HAv1 =1.\n",
    "HAv2 =5.\n",
    "HAv3 =1.\n",
    "HAv4 =10.\n",
    "HAv5 =50.\n",
    "\n",
    "#Leverage limits.\n",
    "Lev1 = cp.LeverageLimit(1)\n",
    "Lev2 = cp.LeverageLimit(1.5)\n",
    "Lev3 = cp.LeverageLimit(2)\n",
    "Lev4 = cp.LeverageLimit(2.5)\n",
    "Lev5 = cp.LeverageLimit(3)"
   ]
  },
  {
   "cell_type": "code",
   "execution_count": null,
   "metadata": {},
   "outputs": [],
   "source": [
    "#Investment policies configuration.\n",
    "MPC_policy1 = cp.MultiPeriodOpt(return_forecast=expected_returns,\n",
    "                                costs=[RAv1*Risk_model, \n",
    "                                       TAv1*Transaction_costs_model, \n",
    "                                       HAv1*Holding_costs_model],\n",
    "                                constraints=[Lev1,cp.LongOnly(),\n",
    "                                             cp.DollarNeutral()])\n",
    "\n",
    "MPC_policy2 = cp.MultiPeriodOpt(return_forecast=expected_returns,\n",
    "                                costs=[RAv2*Risk_model, \n",
    "                                       TAv2*Transaction_costs_model, \n",
    "                                       HAv2*Holding_costs_model],\n",
    "                                constraints=[Lev2,cp.LongOnly(),\n",
    "                                             cp.DollarNeutral()])\n",
    "\n",
    "MPC_policy3 = cp.MultiPeriodOpt(return_forecast=expected_returns,\n",
    "                                costs=[RAv3*Risk_model, \n",
    "                                       TAv3*Transaction_costs_model, \n",
    "                                       HAv3*Holding_costs_model],\n",
    "                                constraints=[Lev3,cp.LongOnly(),\n",
    "                                             cp.DollarNeutral()])\n",
    "\n",
    "MPC_policy4 = cp.MultiPeriodOpt(return_forecast=expected_returns,\n",
    "                                costs=[RAv4*Risk_model, \n",
    "                                       TAv4*Transaction_costs_model, \n",
    "                                       HAv4*Holding_costs_model],\n",
    "                                constraints=[Lev4,cp.LongOnly(),\n",
    "                                             cp.DollarNeutral()])\n",
    "\n",
    "MPC_policy5 = cp.MultiPeriodOpt(return_forecast=expected_returns,\n",
    "                                costs=[RAv5*Risk_model, \n",
    "                                       TAv5*Transaction_costs_model, \n",
    "                                       HAv5*Holding_costs_model],\n",
    "                                constraints=[Lev5,cp.LongOnly(),\n",
    "                                             cp.DollarNeutral()])"
   ]
  },
  {
   "cell_type": "code",
   "execution_count": null,
   "metadata": {},
   "outputs": [],
   "source": [
    "#Market simulation process.\n",
    "Investment_simulation=cp.MarketSimulator(expected_returns, \n",
    "                                         [Transaction_costs_model, \n",
    "                                         Holding_costs_model], \n",
    "                                         cash_key='USDOLLAR')\n",
    "\n",
    "#Initial budget: $200,000 ($10,000 per stock).\n",
    "Initial_portfolio = pd.Series(index=returns.columns, data=10000.)\n",
    "\n",
    "#Self-funding portfolio.\n",
    "Initial_portfolio.USDOLLAR = 0"
   ]
  },
  {
   "cell_type": "code",
   "execution_count": null,
   "metadata": {},
   "outputs": [],
   "source": [
    "#Investment simulation process.\n",
    "Simulation_results = market_sim.run_multiple_backtest(Initial_portfolio,\n",
    "                                start_time='2013-01-03', end_time='2016-12-29',\n",
    "                               policies=[cp.Hold(),\n",
    "                                         MPC_policy1,\n",
    "                                         MPC_policy2,\n",
    "                                         MPC_policy3,\n",
    "                                         MPC_policy4,\n",
    "                                         MPC_policy5])"
   ]
  },
  {
   "cell_type": "code",
   "execution_count": null,
   "metadata": {},
   "outputs": [],
   "source": [
    "#Display numerical results\n",
    "Simulation_results[0].summary()\n",
    "Simulation_results[1].summary()\n",
    "Simulation_results[2].summary()\n",
    "Simulation_results[3].summary()\n",
    "Simulation_results[4].summary()\n",
    "Simulation_results[5].summary()"
   ]
  },
  {
   "cell_type": "code",
   "execution_count": null,
   "metadata": {},
   "outputs": [],
   "source": [
    "#Display graphical results. Portfolio value over time.\n",
    "results[0].v.plot(figsize=(15,7),label='Lev=1')\n",
    "results[1].v.plot(figsize=(15,7),label='Lev=1.5')\n",
    "results[2].v.plot(figsize=(15,7),label='Lev=2')\n",
    "results[3].v.plot(figsize=(15,7),label='Lev=2.5')\n",
    "results[4].v.plot(figsize=(15,7),label='Lev=3')\n",
    "\n",
    "#Plot configuration\n",
    "plt.gca().tick_params(axis='both',labelsize=16)\n",
    "plt.xlabel('Time',fontsize=18)\n",
    "plt.title('Portfolio value over time',fontsize=18)\n",
    "plt.axis('tight')\n",
    "plt.ylabel('Portfolio value ($)',fontsize=18)\n",
    "\n",
    "ax = plt.gca()\n",
    "ax.get_yaxis().set_major_formatter(plt.FuncFormatter(lambda x, \n",
    "                                                     loc: \"{:,}\".format(int(x))))\n",
    "plt.legend(loc='upper left',fontsize=18)\n",
    "plt.savefig('MPC.png')"
   ]
  },
  {
   "cell_type": "code",
   "execution_count": null,
   "metadata": {},
   "outputs": [],
   "source": [
    "#Display graphical results. Portfolio weights over time.\n",
    "results[0].w.plot(figsize=(15,7),label='Lev=1')\n",
    "results[1].w.plot(figsize=(15,7),label='Lev=1.5')\n",
    "results[2].w.plot(figsize=(15,7),label='Lev=2')\n",
    "results[3].w.plot(figsize=(15,7),label='Lev=2.5')\n",
    "results[4].w.plot(figsize=(15,7),label='Lev=3')\n",
    "\n",
    "\n",
    "#Plot configuration\n",
    "plt.gca().tick_params(axis='both',labelsize=16)\n",
    "plt.xlabel('Time',fontsize=18)\n",
    "plt.title('Portfolio weight over time',fontsize=18)\n",
    "plt.axis('tight')\n",
    "plt.ylabel('Portfolio weight',fontsize=18)\n",
    "\n",
    "ax = plt.gca()\n",
    "ax.get_yaxis().set_major_formatter(plt.FuncFormatter(lambda x, \n",
    "                                                     loc: \"{:,}\".format(int(x))))\n",
    "plt.legend(loc='upper left',fontsize=18)\n",
    "plt.savefig('MPC2.png')"
   ]
  }
 ],
 "metadata": {
  "anaconda-cloud": {},
  "kernelspec": {
   "display_name": "Python 3",
   "language": "python",
   "name": "python3"
  },
  "language_info": {
   "codemirror_mode": {
    "name": "ipython",
    "version": 3
   },
   "file_extension": ".py",
   "mimetype": "text/x-python",
   "name": "python",
   "nbconvert_exporter": "python",
   "pygments_lexer": "ipython3",
   "version": "3.6.8"
  }
 },
 "nbformat": 4,
 "nbformat_minor": 1
}
